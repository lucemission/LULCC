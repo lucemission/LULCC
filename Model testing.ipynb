{
 "cells": [
  {
   "cell_type": "code",
   "execution_count": 2,
   "id": "cd4226f5-cb68-4c65-9032-316df0b98774",
   "metadata": {},
   "outputs": [],
   "source": [
    "import numpy as np\n",
    "import pandas as pd\n",
    "import os\n",
    "import netCDF4 as nc\n",
    "from pyproj import Proj\n",
    "from shapely.geometry import shape\n",
    "import re"
   ]
  },
  {
   "cell_type": "code",
   "execution_count": 21,
   "id": "9a5e2b0e-c762-4d52-ac70-02e990a37d0b",
   "metadata": {},
   "outputs": [],
   "source": [
    "from lib.Coordinate import Coordinate\n",
    "#from lib import Constants as c"
   ]
  },
  {
   "cell_type": "code",
   "execution_count": 20,
   "id": "f6746b7d-28c8-48f6-b836-57e383c21e68",
   "metadata": {},
   "outputs": [
    {
     "data": {
      "text/plain": [
       "(1, 2, 3, 4, 5, 6, 7, 8, 9, 10, 11, 12, 13, 14, 15, 16, 17, 18, 19, 20, 21)"
      ]
     },
     "execution_count": 20,
     "metadata": {},
     "output_type": "execute_result"
    }
   ],
   "source": [
    "tuple(np.arange(1,22))"
   ]
  },
  {
   "cell_type": "code",
   "execution_count": 4,
   "id": "7eb4ebff-fcc2-4e23-9d77-55c5628f9b5f",
   "metadata": {},
   "outputs": [
    {
     "data": {
      "text/plain": [
       "(1, 2, 3, 4, 5, 6, 7, 8, 9, 10, 11, 12, 13, 14, 15, 16, 17, 18, 19, 20, 21)"
      ]
     },
     "execution_count": 4,
     "metadata": {},
     "output_type": "execute_result"
    }
   ],
   "source": [
    "col_list = tuple(np.linspace(1,21,21, dtype=int))\n",
    "col_list"
   ]
  },
  {
   "cell_type": "code",
   "execution_count": 6,
   "id": "ab2a7846-6ba0-4ad0-8973-ec45691342ee",
   "metadata": {},
   "outputs": [
    {
     "data": {
      "text/plain": [
       "array([0.00000000e+00, 0.00000000e+00, 0.00000000e+00, 4.00000000e-06,\n",
       "       4.00000000e-06, 0.00000000e+00, 0.00000000e+00, 0.00000000e+00,\n",
       "       0.00000000e+00, 0.00000000e+00, 1.10000000e-05, 0.00000000e+00,\n",
       "       0.00000000e+00, 5.50027251e+02, 1.10000000e-05, 0.00000000e+00,\n",
       "       0.00000000e+00, 0.00000000e+00, 0.00000000e+00, 0.00000000e+00,\n",
       "       0.00000000e+00])"
      ]
     },
     "execution_count": 6,
     "metadata": {},
     "output_type": "execute_result"
    }
   ],
   "source": [
    "transitions = np.loadtxt('./data/1500-2004/lu/lat-0.25lon109.25.lu', skiprows=1, usecols=col_list)\n",
    "transitions[0]"
   ]
  },
  {
   "cell_type": "code",
   "execution_count": 39,
   "id": "5954bd6a-3ee8-48aa-b5dd-ec428cf5caae",
   "metadata": {},
   "outputs": [
    {
     "data": {
      "text/plain": [
       "(505, 21)"
      ]
     },
     "execution_count": 39,
     "metadata": {},
     "output_type": "execute_result"
    }
   ],
   "source": [
    "transitions.shape"
   ]
  },
  {
   "cell_type": "code",
   "execution_count": 6,
   "id": "a482be26-5a5e-44ab-b490-ea10c142ee5e",
   "metadata": {},
   "outputs": [
    {
     "data": {
      "text/plain": [
       "array([[0., 0., 0., ..., 0., 0., 0.],\n",
       "       [0., 0., 0., ..., 0., 0., 0.],\n",
       "       [0., 0., 0., ..., 0., 0., 0.],\n",
       "       ...,\n",
       "       [0., 0., 0., ..., 0., 0., 0.],\n",
       "       [0., 0., 0., ..., 0., 0., 0.],\n",
       "       [0., 0., 0., ..., 0., 0., 0.]])"
      ]
     },
     "execution_count": 6,
     "metadata": {},
     "output_type": "execute_result"
    }
   ],
   "source": [
    "initial_crop = np.loadtxt('./data/1500-2004/updated_states/gcrop.1500.txt')\n",
    "initial_crop"
   ]
  },
  {
   "cell_type": "code",
   "execution_count": 7,
   "id": "db9ebce0-363c-49b9-bd0e-d2f6f6516a59",
   "metadata": {},
   "outputs": [
    {
     "data": {
      "text/plain": [
       "array([[0., 0., 0., ..., 0., 0., 0.],\n",
       "       [0., 0., 0., ..., 0., 0., 0.],\n",
       "       [0., 0., 0., ..., 0., 0., 0.],\n",
       "       ...,\n",
       "       [0., 0., 0., ..., 0., 0., 0.],\n",
       "       [0., 0., 0., ..., 0., 0., 0.],\n",
       "       [0., 0., 0., ..., 0., 0., 0.]])"
      ]
     },
     "execution_count": 7,
     "metadata": {},
     "output_type": "execute_result"
    }
   ],
   "source": [
    "initial_virgin = np.loadtxt('./data/1500-2004/updated_states/gothr.1500.txt')\n",
    "initial_virgin"
   ]
  },
  {
   "cell_type": "code",
   "execution_count": 8,
   "id": "f38f8639-9bc2-4a70-a6b0-26df6b58bcbe",
   "metadata": {},
   "outputs": [
    {
     "data": {
      "text/plain": [
       "array([[0., 0., 0., ..., 0., 0., 0.],\n",
       "       [0., 0., 0., ..., 0., 0., 0.],\n",
       "       [0., 0., 0., ..., 0., 0., 0.],\n",
       "       ...,\n",
       "       [0., 0., 0., ..., 0., 0., 0.],\n",
       "       [0., 0., 0., ..., 0., 0., 0.],\n",
       "       [0., 0., 0., ..., 0., 0., 0.]])"
      ]
     },
     "execution_count": 8,
     "metadata": {},
     "output_type": "execute_result"
    }
   ],
   "source": [
    "initial_pasture = np.loadtxt('./data/1500-2004/updated_states/gpast.1500.txt')\n",
    "initial_pasture"
   ]
  },
  {
   "cell_type": "code",
   "execution_count": 9,
   "id": "65e29174-6f68-480d-a224-71255d704b56",
   "metadata": {},
   "outputs": [
    {
     "data": {
      "text/plain": [
       "array([[0., 0., 0., ..., 0., 0., 0.],\n",
       "       [0., 0., 0., ..., 0., 0., 0.],\n",
       "       [0., 0., 0., ..., 0., 0., 0.],\n",
       "       ...,\n",
       "       [0., 0., 0., ..., 0., 0., 0.],\n",
       "       [0., 0., 0., ..., 0., 0., 0.],\n",
       "       [0., 0., 0., ..., 0., 0., 0.]])"
      ]
     },
     "execution_count": 9,
     "metadata": {},
     "output_type": "execute_result"
    }
   ],
   "source": [
    "initial_sec = np.loadtxt('./data/1500-2004/updated_states/gsecd.1500.txt')\n",
    "initial_sec"
   ]
  },
  {
   "cell_type": "code",
   "execution_count": 14,
   "id": "3bbb9279-99f2-4f15-baea-c2ffd4c64a92",
   "metadata": {},
   "outputs": [],
   "source": [
    "initial_states = np.array([initial_virgin[180,578], initial_sec[180,578], initial_crop[180,578], initial_pasture[180,578]])"
   ]
  },
  {
   "cell_type": "code",
   "execution_count": 8,
   "id": "074a9e15-bfad-4565-afae-45950cbf7667",
   "metadata": {},
   "outputs": [
    {
     "data": {
      "text/plain": [
       "array([0.91518563, 0.        , 0.        , 0.        , 0.        ,\n",
       "       0.        , 0.        , 0.        , 0.        , 0.        ,\n",
       "       0.        ], dtype=float32)"
      ]
     },
     "execution_count": 8,
     "metadata": {},
     "output_type": "execute_result"
    }
   ],
   "source": [
    "ds = nc.Dataset('./data/1500-2004/PFT/LAND_COV_scen_1500.nc')\n",
    "#ds['vegfract'][:,0,:,:]\n",
    "ds['vegfract'][0,:11,180,578].data\n",
    "# [pft] = \n",
    "# pft"
   ]
  },
  {
   "cell_type": "code",
   "execution_count": 23,
   "id": "6519f782-5856-4c80-a057-377dd695ad2f",
   "metadata": {},
   "outputs": [
    {
     "data": {
      "text/plain": [
       "(1, 14, 360, 720)"
      ]
     },
     "execution_count": 23,
     "metadata": {},
     "output_type": "execute_result"
    }
   ],
   "source": [
    "ds1 = nc.Dataset('./data/PFT/1700-dst/LAND_COV_scen_1700_1992_001.nc')\n",
    "ds1['vegfract'][:,:,:,:].data.shape"
   ]
  },
  {
   "cell_type": "code",
   "execution_count": 18,
   "id": "d960d355-dfd9-4f4a-96f3-dea00549ec8c",
   "metadata": {},
   "outputs": [
    {
     "data": {
      "text/plain": [
       "array([[[[ 0.e+00,  0.e+00,  0.e+00, ...,  0.e+00,  0.e+00,  0.e+00],\n",
       "         [ 0.e+00,  0.e+00,  0.e+00, ...,  0.e+00,  0.e+00,  0.e+00],\n",
       "         [ 0.e+00,  0.e+00,  0.e+00, ...,  0.e+00,  0.e+00,  0.e+00],\n",
       "         ...,\n",
       "         [-9.e+20, -9.e+20, -9.e+20, ..., -9.e+20, -9.e+20, -9.e+20],\n",
       "         [-9.e+20, -9.e+20, -9.e+20, ..., -9.e+20, -9.e+20, -9.e+20],\n",
       "         [-9.e+20, -9.e+20, -9.e+20, ..., -9.e+20, -9.e+20, -9.e+20]],\n",
       "\n",
       "        [[ 0.e+00,  0.e+00,  0.e+00, ...,  0.e+00,  0.e+00,  0.e+00],\n",
       "         [ 0.e+00,  0.e+00,  0.e+00, ...,  0.e+00,  0.e+00,  0.e+00],\n",
       "         [ 0.e+00,  0.e+00,  0.e+00, ...,  0.e+00,  0.e+00,  0.e+00],\n",
       "         ...,\n",
       "         [-9.e+20, -9.e+20, -9.e+20, ..., -9.e+20, -9.e+20, -9.e+20],\n",
       "         [-9.e+20, -9.e+20, -9.e+20, ..., -9.e+20, -9.e+20, -9.e+20],\n",
       "         [-9.e+20, -9.e+20, -9.e+20, ..., -9.e+20, -9.e+20, -9.e+20]],\n",
       "\n",
       "        [[ 0.e+00,  0.e+00,  0.e+00, ...,  0.e+00,  0.e+00,  0.e+00],\n",
       "         [ 0.e+00,  0.e+00,  0.e+00, ...,  0.e+00,  0.e+00,  0.e+00],\n",
       "         [ 0.e+00,  0.e+00,  0.e+00, ...,  0.e+00,  0.e+00,  0.e+00],\n",
       "         ...,\n",
       "         [-9.e+20, -9.e+20, -9.e+20, ..., -9.e+20, -9.e+20, -9.e+20],\n",
       "         [-9.e+20, -9.e+20, -9.e+20, ..., -9.e+20, -9.e+20, -9.e+20],\n",
       "         [-9.e+20, -9.e+20, -9.e+20, ..., -9.e+20, -9.e+20, -9.e+20]],\n",
       "\n",
       "        ...,\n",
       "\n",
       "        [[ 0.e+00,  0.e+00,  0.e+00, ...,  0.e+00,  0.e+00,  0.e+00],\n",
       "         [ 0.e+00,  0.e+00,  0.e+00, ...,  0.e+00,  0.e+00,  0.e+00],\n",
       "         [ 0.e+00,  0.e+00,  0.e+00, ...,  0.e+00,  0.e+00,  0.e+00],\n",
       "         ...,\n",
       "         [-9.e+20, -9.e+20, -9.e+20, ..., -9.e+20, -9.e+20, -9.e+20],\n",
       "         [-9.e+20, -9.e+20, -9.e+20, ..., -9.e+20, -9.e+20, -9.e+20],\n",
       "         [-9.e+20, -9.e+20, -9.e+20, ..., -9.e+20, -9.e+20, -9.e+20]],\n",
       "\n",
       "        [[ 0.e+00,  0.e+00,  0.e+00, ...,  0.e+00,  0.e+00,  0.e+00],\n",
       "         [ 0.e+00,  0.e+00,  0.e+00, ...,  0.e+00,  0.e+00,  0.e+00],\n",
       "         [ 0.e+00,  0.e+00,  0.e+00, ...,  0.e+00,  0.e+00,  0.e+00],\n",
       "         ...,\n",
       "         [-9.e+20, -9.e+20, -9.e+20, ..., -9.e+20, -9.e+20, -9.e+20],\n",
       "         [-9.e+20, -9.e+20, -9.e+20, ..., -9.e+20, -9.e+20, -9.e+20],\n",
       "         [-9.e+20, -9.e+20, -9.e+20, ..., -9.e+20, -9.e+20, -9.e+20]],\n",
       "\n",
       "        [[ 0.e+00,  0.e+00,  0.e+00, ...,  0.e+00,  0.e+00,  0.e+00],\n",
       "         [ 0.e+00,  0.e+00,  0.e+00, ...,  0.e+00,  0.e+00,  0.e+00],\n",
       "         [ 0.e+00,  0.e+00,  0.e+00, ...,  0.e+00,  0.e+00,  0.e+00],\n",
       "         ...,\n",
       "         [-9.e+20, -9.e+20, -9.e+20, ..., -9.e+20, -9.e+20, -9.e+20],\n",
       "         [-9.e+20, -9.e+20, -9.e+20, ..., -9.e+20, -9.e+20, -9.e+20],\n",
       "         [-9.e+20, -9.e+20, -9.e+20, ..., -9.e+20, -9.e+20, -9.e+20]]]],\n",
       "      dtype=float32)"
      ]
     },
     "execution_count": 18,
     "metadata": {},
     "output_type": "execute_result"
    }
   ],
   "source": [
    "ds['vegfract'][:,:,:,:].data"
   ]
  },
  {
   "cell_type": "code",
   "execution_count": 24,
   "id": "64b39e1e-5c91-4708-8ad1-65273b1d0ab8",
   "metadata": {},
   "outputs": [
    {
     "name": "stdout",
     "output_type": "stream",
     "text": [
      "[[0. 0. 0. ... 0. 0. 0.]\n",
      " [0. 0. 0. ... 0. 0. 0.]\n",
      " [0. 0. 0. ... 0. 0. 0.]\n",
      " ...\n",
      " [0. 0. 0. ... 0. 0. 0.]\n",
      " [0. 0. 0. ... 0. 0. 0.]\n",
      " [0. 0. 0. ... 0. 0. 0.]]\n",
      "\n",
      "[0.772427 0.       0.003273 0.004111]\n",
      "\n",
      "[0.91518563 0.         0.         0.         0.         0.\n",
      " 0.         0.         0.         0.         0.         0.02934653\n",
      " 0.00208263 0.00861766]\n"
     ]
    }
   ],
   "source": [
    "lat_025lon10925 = Coordinate(transitions, initial_states, pft)\n",
    "print(lat_025lon10925.transitions)\n",
    "print()\n",
    "print(lat_025lon10925.states)\n",
    "print()\n",
    "print(lat_025lon10925.pft)"
   ]
  },
  {
   "cell_type": "code",
   "execution_count": 19,
   "id": "719fac97-8ce3-4779-afb5-c8fc50702399",
   "metadata": {},
   "outputs": [
    {
     "data": {
      "text/plain": [
       "array([[200.  , 160.  , 160.  , 135.  ,  90.  ,  90.  ,  27.  ,  27.  ,\n",
       "          7.  ,  18.  ,   3.  ],\n",
       "       [150.  , 120.  , 120.  , 100.  ,  68.  ,  68.  ,  27.  ,  27.  ,\n",
       "          7.  ,  18.  ,   0.  ],\n",
       "       [ 18.  ,  18.  ,   7.  ,   7.  ,   7.  ,   7.  ,  18.  ,   7.  ,\n",
       "          7.  ,  18.  ,   7.  ],\n",
       "       [  5.  ,   5.  ,   5.  ,   5.  ,   5.  ,   5.  ,   5.  ,   5.  ,\n",
       "          3.  ,   5.  ,   1.  ],\n",
       "       [117.  , 117.  , 134.  , 134.  , 206.  , 206.  ,  69.  ,  69.  ,\n",
       "        189.  ,  42.  , 204.  ],\n",
       "       [ 88.  ,  88.  , 120.  , 120.  , 185.  , 185.  ,  69.  ,  69.  ,\n",
       "        189.  ,  42.  , 204.  ],\n",
       "       [ 87.75,  87.75, 100.5 , 100.5 , 154.5 , 154.5 ,  69.  ,  69.  ,\n",
       "        189.  ,  42.  , 204.  ],\n",
       "       [ 58.  ,  58.  ,  67.  ,  67.  , 103.  , 103.  ,  34.  ,  34.  ,\n",
       "         94.  ,  21.  , 101.  ]])"
      ]
     },
     "execution_count": 19,
     "metadata": {},
     "output_type": "execute_result"
    }
   ],
   "source": []
  },
  {
   "cell_type": "code",
   "execution_count": 3,
   "id": "d9078e41-4028-45c9-8d28-33faeaee1c98",
   "metadata": {},
   "outputs": [],
   "source": [
    "time_biomass = np.array([ # virgin\n",
    "     [# clearing\n",
    "      [0,0,0,0,0,0,0,0,0,0,0],\n",
    "      # harvest\n",
    "      [0,0,0,0,0,0,0,0,0,0,0],\n",
    "      # abandonment\n",
    "      [0,0,0,0,0,0,0,0,0,0,0],\n",
    "      # others\n",
    "      [0,0,0,0,0,0,0,0,0,0,0]],\n",
    "     # secondary\n",
    "     [# clearing\n",
    "      [0,0,0,0,0,0,0,0,0,0,0],\n",
    "      # harvest\n",
    "      [26.7,26.7,26.7,26.7,26.7,26.7,13.35,26.7,5.34,2.67,26.7],\n",
    "      # abandonment\n",
    "      [26.7,26.7,26.7,26.7,26.7,26.7,13.35,26.7,5.34,2.67,26.7],\n",
    "      # others\n",
    "      [0,0,0,0,0,0,0,0,0,0,0]],\n",
    "     # pasture\n",
    "     [# clearing\n",
    "      [0,0,0,0,0,0,0,0,0,0,0],\n",
    "      # harvest\n",
    "      [0,0,0,0,0,0,0,0,0,0,0],\n",
    "      # abandonment\n",
    "      [0,0,0,0,0,0,0,0,0,0,0],\n",
    "      # others\n",
    "      [0,0,0,0,0,0,0,0,0,0,0]],\n",
    "     # crop\n",
    "     [# clearing\n",
    "      [0,0,0,0,0,0,0,0,0,0,0],\n",
    "      # harvest\n",
    "      [0,0,0,0,0,0,0,0,0,0,0],\n",
    "      # abandonment\n",
    "      [0,0,0,0,0,0,0,0,0,0,0],\n",
    "      # others\n",
    "      [0,0,0,0,0,0,0,0,0,0,0]]])"
   ]
  },
  {
   "cell_type": "code",
   "execution_count": 6,
   "id": "5d60d0ad-4ddd-4465-aa8b-612d775126d6",
   "metadata": {},
   "outputs": [
    {
     "data": {
      "text/plain": [
       "dtype('float64')"
      ]
     },
     "execution_count": 6,
     "metadata": {},
     "output_type": "execute_result"
    }
   ],
   "source": [
    "time_biomass.dtype"
   ]
  },
  {
   "cell_type": "code",
   "execution_count": 5,
   "id": "0b1521c4-3950-453e-8477-1254b5a668bd",
   "metadata": {},
   "outputs": [
    {
     "name": "stderr",
     "output_type": "stream",
     "text": [
      "C:\\Users\\Khalid\\AppData\\Local\\Temp\\ipykernel_928\\2397497397.py:1: VisibleDeprecationWarning: Creating an ndarray from ragged nested sequences (which is a list-or-tuple of lists-or-tuples-or ndarrays with different lengths or shapes) is deprecated. If you meant to do this, you must specify 'dtype=object' when creating the ndarray.\n",
      "  np.array([[1,2,3],[1]])\n"
     ]
    },
    {
     "data": {
      "text/plain": [
       "array([list([1, 2, 3]), list([1])], dtype=object)"
      ]
     },
     "execution_count": 5,
     "metadata": {},
     "output_type": "execute_result"
    }
   ],
   "source": [
    "np.array([[1,2,3],[1]])"
   ]
  },
  {
   "cell_type": "code",
   "execution_count": 4,
   "id": "0c6a3c57-70de-4323-a523-f0d344ed65bd",
   "metadata": {},
   "outputs": [
    {
     "data": {
      "text/plain": [
       "{'type': 'Polygon',\n",
       " 'coordinates': [[[-102.05, 41.0],\n",
       "   [-102.05, 37.0],\n",
       "   [-109.05, 37.0],\n",
       "   [-109.05, 41.0]]]}"
      ]
     },
     "execution_count": 4,
     "metadata": {},
     "output_type": "execute_result"
    }
   ],
   "source": [
    "{\"type\": \"Polygon\", \n",
    " \"coordinates\": [[\n",
    "   [-102.05, 41.0], \n",
    "   [-102.05, 37.0], \n",
    "   [-109.05, 37.0], \n",
    "   [-109.05, 41.0]\n",
    " ]]}"
   ]
  },
  {
   "cell_type": "code",
   "execution_count": 5,
   "id": "8c2aa7c2-2ee6-4842-a4be-b1690b7f5adc",
   "metadata": {},
   "outputs": [],
   "source": [
    "co = {\"type\": \"Polygon\", \"coordinates\": [\n",
    "    [(-102.05, 41.0),\n",
    "     (-102.05, 37.0),\n",
    "     (-109.05, 37.0),\n",
    "     (-109.05, 41.0)]]}\n",
    "lon, lat = zip(*co['coordinates'][0])"
   ]
  },
  {
   "cell_type": "code",
   "execution_count": 7,
   "id": "60fbfb0a-f1ff-4ada-9fea-5ffbbefaa973",
   "metadata": {},
   "outputs": [
    {
     "data": {
      "text/plain": [
       "(41.0, 37.0, 37.0, 41.0)"
      ]
     },
     "execution_count": 7,
     "metadata": {},
     "output_type": "execute_result"
    }
   ],
   "source": [
    "lat"
   ]
  },
  {
   "cell_type": "code",
   "execution_count": 8,
   "id": "b8f55037-fe79-458a-aef6-51eb71f3c84f",
   "metadata": {},
   "outputs": [
    {
     "data": {
      "text/plain": [
       "<zip at 0x1c8bd002a00>"
      ]
     },
     "execution_count": 8,
     "metadata": {},
     "output_type": "execute_result"
    }
   ],
   "source": [
    "zip(*co['coordinates'][0])"
   ]
  },
  {
   "cell_type": "code",
   "execution_count": 9,
   "id": "d9e20b26-0807-4e20-9f01-162f14470799",
   "metadata": {},
   "outputs": [
    {
     "data": {
      "text/plain": [
       "[(-102.05, 41.0), (-102.05, 37.0), (-109.05, 37.0), (-109.05, 41.0)]"
      ]
     },
     "execution_count": 9,
     "metadata": {},
     "output_type": "execute_result"
    }
   ],
   "source": [
    "co['coordinates'][0]"
   ]
  },
  {
   "cell_type": "code",
   "execution_count": 10,
   "id": "4eb5c659-b5b3-4f6f-a5bc-8127ab1a5bf0",
   "metadata": {},
   "outputs": [
    {
     "data": {
      "text/plain": [
       "[[(-102.05, 41.0), (-102.05, 37.0), (-109.05, 37.0), (-109.05, 41.0)]]"
      ]
     },
     "execution_count": 10,
     "metadata": {},
     "output_type": "execute_result"
    }
   ],
   "source": [
    "co['coordinates']"
   ]
  },
  {
   "cell_type": "code",
   "execution_count": 16,
   "id": "8c742029-fbef-4de0-9dc1-1d5e8ba3ee99",
   "metadata": {},
   "outputs": [],
   "source": [
    "coordinates = dict()\n",
    "for filename in os.listdir('../latihan/lu'):\n",
    "    # print(f\"lat{re.search('lat(.+?)lon', filename).group(1)}\")\n",
    "    string = re.sub(\"(\\.|lu)\", \"\",filename)\n",
    "    coordinates[f\"{re.sub('-', '_', string)}\"] = \"hehe\""
   ]
  },
  {
   "cell_type": "code",
   "execution_count": 13,
   "id": "94c848d8-2b2d-49f3-bb5b-2e1692ee3e9e",
   "metadata": {},
   "outputs": [],
   "source": [
    "string = \"lat-0.25lon6.25.lu\"\n",
    "string = re.sub(\"(\\.|lu)\", \"\", string)\n",
    "string = re.sub(\"-\", \"_\", string)"
   ]
  },
  {
   "cell_type": "code",
   "execution_count": 21,
   "id": "350e6756-84aa-4da0-828f-75c14103c82e",
   "metadata": {},
   "outputs": [
    {
     "data": {
      "text/plain": [
       "'C:\\\\Users\\\\Khalid\\\\Desktop\\\\Riset data\\\\LUHa\\\\LULCC'"
      ]
     },
     "execution_count": 21,
     "metadata": {},
     "output_type": "execute_result"
    }
   ],
   "source": [
    "os.getcwd()"
   ]
  },
  {
   "cell_type": "code",
   "execution_count": 31,
   "id": "70ae52ba-4b7f-4654-892a-68892e1b98b4",
   "metadata": {},
   "outputs": [
    {
     "data": {
      "text/plain": [
       "['LAND_COV_scen_1500.nc', 'LAND_COV_scen_1501.nc', 'LAND_COV_scen_1502.nc']"
      ]
     },
     "execution_count": 31,
     "metadata": {},
     "output_type": "execute_result"
    }
   ],
   "source": [
    "base = \"../latihan/pft\"\n",
    "reader(base)"
   ]
  },
  {
   "cell_type": "code",
   "execution_count": 30,
   "id": "110bae86-04a0-4ce6-8e87-a4ddcb429b7b",
   "metadata": {},
   "outputs": [],
   "source": [
    "def reader(path):\n",
    "    filenames = []\n",
    "    for file in os.listdir(path):\n",
    "        filenames.append(file)\n",
    "    return filenames"
   ]
  },
  {
   "cell_type": "code",
   "execution_count": 33,
   "id": "d88b72ab-dcec-4614-b483-ccf802ea3255",
   "metadata": {},
   "outputs": [],
   "source": [
    "class halo:\n",
    "    string = \"hello\""
   ]
  },
  {
   "cell_type": "code",
   "execution_count": 34,
   "id": "cab5c768-88be-48ae-88e9-fdae4f87a97a",
   "metadata": {},
   "outputs": [],
   "source": [
    "coordinates = dict()\n",
    "coordinates['string1'] = halo()"
   ]
  },
  {
   "cell_type": "code",
   "execution_count": 37,
   "id": "14138c0c-1fde-4273-8119-8dd5c36399c6",
   "metadata": {},
   "outputs": [
    {
     "data": {
      "text/plain": [
       "'hello'"
      ]
     },
     "execution_count": 37,
     "metadata": {},
     "output_type": "execute_result"
    }
   ],
   "source": [
    "coordinates['string1'].string"
   ]
  },
  {
   "cell_type": "code",
   "execution_count": null,
   "id": "c4da517c-74a9-41d2-ab69-8ef87786bab6",
   "metadata": {},
   "outputs": [],
   "source": []
  }
 ],
 "metadata": {
  "kernelspec": {
   "display_name": "Python 3 (ipykernel)",
   "language": "python",
   "name": "python3"
  },
  "language_info": {
   "codemirror_mode": {
    "name": "ipython",
    "version": 3
   },
   "file_extension": ".py",
   "mimetype": "text/x-python",
   "name": "python",
   "nbconvert_exporter": "python",
   "pygments_lexer": "ipython3",
   "version": "3.9.15"
  }
 },
 "nbformat": 4,
 "nbformat_minor": 5
}
